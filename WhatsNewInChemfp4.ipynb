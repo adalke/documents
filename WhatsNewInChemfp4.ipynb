{
 "cells": [
  {
   "cell_type": "markdown",
   "id": "31a20a2d",
   "metadata": {},
   "source": [
    "# Changes in chemfp 4.0\n",
    "\n",
    "*Andrew Dalke - 1 October 2021*\n",
    "\n",
    "The main new features are:\n",
    "  - new \"chemfp\" command, with subcommands\n",
    "  - diversity selection using MaxMin or sphere exclusion\n",
    "  - high-level Python API\n",
    "  - pandas integration\n",
    "  - progress bars\n",
    "\n",
    "## `chemfp` command\n",
    "\n",
    "I've added new command-line components. Rather than have new top-level commands in the shell's path, I've created a new `chemfp` command-line program which supports subcommands.\n",
    "\n",
    "The existing tools, like `simsearch` are still available on the the command-line. They are also available as subcommands, like:\n",
    "\n",
    "```\n",
    "chemfp simsearch --query 'c1ccccc1O' chembl_28.fpb\n",
    "``` \n",
    "\n",
    "## Diversity selection\n",
    "\n",
    "Chemfp now includes MaxMin and sphere exclusion methods to pick diverse fingerprints. These are available on the command-line through `chemfp maxmin` and `chemfp spherex`, respectively. For all my examples I'll use pre-generated RDKit Morgan fingerprints for a few datasets.\n",
    "\n",
    "  - ChEMBL with 2M fingerprints\n",
    "  - MolPort with 8M fingerprints\n",
    "  - Asinex Gold and Platinum with 261k fingerprints\n",
    "\n",
    "### MaxMin\n",
    "\n",
    "The MaxMin algorithm is from Ashton, M., Barnard, J., Casset, F., Charlton, M., Downs, G., Gorse, D., Holliday, J., Lahana, R. and Willett, P. (2002), *Identification of Diverse Database Subsets using Property-Based and Fragment-Based Molecular Descriptions*. Quant. Struct.-Act. Relat., 21: 598-604 https://doi.org/10.1002/qsar.200290002 and optimized based on experience developing chemfp.\n",
    "\n",
    "I'll use MaxMin to find the 50 most diverse fingerprints in 8M fingerprings from MolPort:\n",
    "\n",
    "```\n",
    "% chemfp maxmin \"molport/All Stock Compounds/all_stock_compounds.fpb\" --num-picks 50 --times\n",
    "i\tid\tscore\n",
    "*\tMolPort-046-758-640\n",
    "0\tMolPort-023-282-287\t0.0000000\n",
    "1\tMolPort-029-996-256\t0.0000000\n",
    "2\tMolPort-006-106-596\t0.0000000\n",
    "3\tMolPort-006-123-276\t0.0000000\n",
    "   .. omitting many fingerprints with a score of 0.0 ..\n",
    "34\tMolPort-003-925-243\t0.0000000\n",
    "35\tMolPort-047-715-358\t0.0000000\n",
    "36\tMolPort-042-675-701\t0.0000000\n",
    "37\tMolPort-021-070-534\t0.0131579\n",
    "38\tMolPort-003-926-898\t0.0144928\n",
    "39\tMolPort-006-129-578\t0.0156250\n",
    "40\tMolPort-001-781-829\t0.0158730\n",
    "41\tMolPort-047-853-169\t0.0161290\n",
    "42\tMolPort-028-749-102\t0.0163934\n",
    "43\tMolPort-046-683-501\t0.0227273\n",
    "44\tMolPort-002-136-184\t0.0285714\n",
    "45\tMolPort-003-931-393\t0.0289855\n",
    "46\tMolPort-009-753-086\t0.0315789\n",
    "47\tMolPort-039-141-565\t0.0333333\n",
    "48\tMolPort-004-418-271\t0.0348837\n",
    "49\tMolPort-047-458-501\t0.0357143\n",
    "T_init: 1.50 T_pick: 0.09 #picks: 50 picks/s: 571.71 T_total: 1.60\n",
    "```\n",
    "\n",
    "The `*` line in the output is because the MaxMin algorithm when used like this requires at least one initial pick, which in this case was chosen at random.\n",
    "\n",
    "What you don't see from this document is the output is generated for each pick. If you don't specify `--num-picks` then it will keep printing output until all 8 million fingerprints have been selected. Or, you can use `--threshold` to have it stop once the scores have exceeded that threshold.\n",
    "\n",
    "### MaxMin with reference fingerprints\n",
    "\n",
    "What if you want to pick diverse MolPort fingerprints which are also diverse from your in-house collection?\n",
    "\n",
    "I'll use ChEMBL as my reference data set of \"compounds I have\", to find \"compounds I want\" from the set of candidates.\n",
    "\n",
    "<div class=\"alert alert-block alert-warning\">\n",
    "<b>Warning:</b> chemfp currently uses 'library' to refer to the reference data set. From user feedback, I believe 'reference' is a better term. This will likely change by chemfp 4.0 final release.\n",
    "</div>\n",
    "\n",
    "\n",
    "```\n",
    "% chemfp maxmin \"molport/All Stock Compounds/all_stock_compounds.fpb\" --library chembl_.fpb --num-picks 20 --times\n",
    "i\tid\tscore\n",
    "0\tMolPort-035-944-309\t0.0666667\n",
    "1\tMolPort-003-925-243\t0.0769231\n",
    "2\tMolPort-046-418-717\t0.0967742\n",
    "3\tMolPort-047-715-359\t0.1111111\n",
    "4\tMolPort-003-931-393\t0.1111111\n",
    "5\tMolPort-047-786-645\t0.1111111\n",
    "6\tMolPort-047-785-953\t0.1153846\n",
    "7\tMolPort-003-930-273\t0.1176471\n",
    "8\tMolPort-028-746-255\t0.1176471\n",
    "9\tMolPort-001-783-134\t0.1250000\n",
    "10\tMolPort-003-930-167\t0.1250000\n",
    "11\tMolPort-001-776-119\t0.1250000\n",
    "12\tMolPort-047-715-196\t0.1250000\n",
    "13\tMolPort-003-933-141\t0.1304348\n",
    "14\tMolPort-047-919-115\t0.1304348\n",
    "15\tMolPort-039-141-565\t0.1346154\n",
    "16\tMolPort-044-181-316\t0.1379310\n",
    "17\tMolPort-003-931-784\t0.1428571\n",
    "18\tMolPort-003-930-617\t0.1428571\n",
    "19\tMolPort-047-786-576\t0.1428571\n",
    "T_init: 1.56 T_pick: 7.03 #picks: 20 picks/s: 2.85 T_total: 8.62\n",
    "```\n",
    "\n",
    "### Sphere Exclusion\n",
    "\n",
    "There are many variations of the sphere exclusion algorithm. The general approach is to pick a fingerprint, remove it and all fingerprints within a given theshold, and repeat the process until done.\n",
    "\n",
    "The variations deal with how the fingerprints are picked. Chemfp by default uses a non-random approach - it selects the first available fingerprint. Since chemfp stores the fingerprints in popcount order, from smallest to largest, this means the least complex fingerprints are likely to be picked first.\n",
    "\n",
    "It also doesn't seem to be that useful, because a lot of the small fingerprints are close to each other:\n",
    "\n",
    "```\n",
    "% chemfp spherex \"molport/All Stock Compounds/all_stock_compounds.fpb\" --threshold 0.2 --num-picks 10 --times\n",
    "i\tid\tcount\n",
    "0\tMolPort-016-950-362\t94289\n",
    "1\tMolPort-001-756-353\t6\n",
    "2\tMolPort-001-781-607\t6\n",
    "3\tMolPort-001-783-134\t1\n",
    "4\tMolPort-001-783-702\t17\n",
    "5\tMolPort-001-786-695\t16\n",
    "6\tMolPort-001-790-558\t24\n",
    "7\tMolPort-003-925-087\t6\n",
    "8\tMolPort-003-925-243\t3\n",
    "9\tMolPort-003-925-458\t3\n",
    "T_init: 0.03 T_pick: 1.21 #picks: 10 picks/s: 8.25 T_total: 1.24\n",
    "```\n",
    "\n",
    "The `count` is the number of neighboring fingerprints (including the pick itself) found in the sphere.\n",
    "\n",
    "If you want to pick the next fingerprint at random, then specify a seed for the random number generator, or use \"auto\" to let Python pick the seed:\n",
    "\n",
    "```\n",
    "% chemfp spherex \"molport/All Stock Compounds/all_stock_compounds.fpb\" --threshold 0.2 --num-picks 10 --seed auto --times\n",
    "i\tid\tcount\n",
    "0\tMolPort-002-674-440\t55819\n",
    "1\tMolPort-000-757-411\t88122\n",
    "2\tMolPort-006-381-481\t84052\n",
    "3\tMolPort-028-801-115\t141855\n",
    "4\tMolPort-046-451-420\t58271\n",
    "5\tMolPort-006-505-423\t890678\n",
    "6\tMolPort-019-797-062\t549242\n",
    "7\tMolPort-008-266-128\t72694\n",
    "8\tMolPort-023-157-567\t420311\n",
    "9\tMolPort-019-713-257\t151720\n",
    "T_init: 0.03 T_pick: 3.54 #picks: 10 picks/s: 2.82 T_total: 3.58\n",
    "```\n",
    "\n",
    "<div class=\"alert alert-block alert-warning\">\n",
    "<b>NOTE:</b> I don't have much experience with sphere picking and would like feedback on good defaults. I suspect that the final 4.0 version will default to a randomly selected seed, with an option to choose selection based on popcount.\n",
    "</div>\n",
    "\n",
    "### DIrected Sphere Exclusion (\"DISE\")\n",
    "\n",
    "The term \"directed sphere exclusion\" comes from Gobbi, A., & Lee, M. L. (2003). *DISE: directed sphere\n",
    "exclusion*. Journal of Chemical Information and Computer Sciences, 43(1), 317-323. https://doi.org/10.1021/ci025554v .\n",
    "\n",
    "Chemfp's default is to pick the next fingerprint based on smallest popcount. This is a sort of \"directed\" rather than random choice.\n",
    "\n",
    "The DISE algorithm picks the next fingerprint based on its similarity to a set of three reference compounds. It chooses the fingerprint which is most similar to Sildenafil Citrate. Any ties are broken by their similarity to Isradipine. Any futher ties are broken by their similarity to Benazepril Hydrochloride. Any further times are broken by popcount/index order, though if a seed is specified then a fingerprint is chosen at random.\n",
    "\n",
    "The reference fingerprints are computed as needed, based on the fingerprint type information in the candidates fingerprint file. In this case, chemfp determines that the MolPort data set uses Morgan fingerprints, then uses the RDKit to convert the reference SMILES strings into fingerprints, which it then uses to rank the fingerprints before doing the directed search.\n",
    "\n",
    "```\n",
    "% chemfp spherex \"molport/All Stock Compounds/all_stock_compounds.fpb\" --threshold 0.2 --num-picks 10 --dise --times\n",
    "i\tid\tcount\n",
    "0\tMolPort-003-850-246\t143210\n",
    "1\tMolPort-042-676-216\t120438\n",
    "2\tMolPort-000-762-565\t248741\n",
    "3\tMolPort-044-563-819\t176324\n",
    "4\tMolPort-047-604-219\t34293\n",
    "5\tMolPort-007-587-293\t345155\n",
    "6\tMolPort-003-053-890\t500779\n",
    "7\tMolPort-002-320-440\t98257\n",
    "8\tMolPort-047-686-497\t117971\n",
    "9\tMolPort-046-683-715\t27055\n",
    "T_init: 5.12 T_pick: 10.02 #picks: 10 picks/s: 1.00 T_total: 31.41\n",
    "```\n",
    "\n",
    "I ran this again using `--seed auto` but the results were identical, suggesting either there were no further ties to resolve, or there's a bug in the code. `:)`\n",
    "\n",
    "## High-level Python API, with pandas integration\n",
    "\n",
    "The chemfp API is complete, but too low-level for exploratory use. I found that people even in the Jupyter notebook, who have direct access to chemfp's Python API, find it easier to work with the command-line tools and handle file conversion. For example, Pat Walters recently wrote an [essay on using pandas to read the output from chemfp's simsearch](https://github.com/PatWalters/blog_posts/blob/main/chemfp_simsearch.ipynb). The main goal was to show the flexbility of pandas' input reader, but it can also be seen as a limitation in the Python API.\n",
    "\n",
    "Here I'll repeat the chemfp parts of Pat's essay, using the new high-level API.\n",
    "\n",
    "### `chemfp.rdkit2fps` and similar functions\n",
    "\n",
    "The first step is to download a data file:"
   ]
  },
  {
   "cell_type": "code",
   "execution_count": 1,
   "id": "4327818d",
   "metadata": {},
   "outputs": [
    {
     "name": "stdout",
     "output_type": "stream",
     "text": [
      "  % Total    % Received % Xferd  Average Speed   Time    Time     Time  Current\n",
      "                                 Dload  Upload   Total   Spent    Left  Speed\n",
      "100 84820  100 84820    0     0   231k      0 --:--:-- --:--:-- --:--:--  231k\n"
     ]
    }
   ],
   "source": [
    "!curl -O https://raw.githubusercontent.com/PatWalters/datafiles/main/chembl_drugs.smi\n"
   ]
  },
  {
   "cell_type": "markdown",
   "id": "4ea42b66",
   "metadata": {},
   "source": [
    "and use RDKit to generate Morgan fingerprints for the SMILES strings."
   ]
  },
  {
   "cell_type": "code",
   "execution_count": 2,
   "id": "62d41faa",
   "metadata": {},
   "outputs": [
    {
     "data": {
      "application/vnd.jupyter.widget-view+json": {
       "model_id": "ff36816c841640d59c4420a0cee6cbd0",
       "version_major": 2,
       "version_minor": 0
      },
      "text/plain": [
       "chembl_drugs.smi:   0%|                                                                  | 0.00/84.8k [00:00<?…"
      ]
     },
     "metadata": {},
     "output_type": "display_data"
    },
    {
     "data": {
      "text/plain": [
       "ConversionInfo('processed structures from a file. #source_records=1203, #destination_records=1203 (total: 1.30 s)')"
      ]
     },
     "execution_count": 2,
     "metadata": {},
     "output_type": "execute_result"
    }
   ],
   "source": [
    "import chemfp\n",
    "chemfp.rdkit2fps(\"chembl_drugs.smi\", \"chembl_drugs.fpb\")"
   ]
  },
  {
   "cell_type": "markdown",
   "id": "cb950c1a",
   "metadata": {},
   "source": [
    "The high-level API uses progress bars in many places to provide some feedback on long calculations. It can be disabled with `progress=False`.\n",
    "\n",
    "They also return an \"Info\" object of some describing what happened, along with timing information and other fields. \n",
    "\n",
    "There functions `chemfp.ob2fps`, `chemfp.oe2fps`, `chemfp.cdk2fps` are specialized for their respective toolkits. In particular, they support special aliases for the fingerprint type names, like \"maccs\" for the toolkit-specific MACCS implementation:"
   ]
  },
  {
   "cell_type": "code",
   "execution_count": 3,
   "id": "a337f6fd",
   "metadata": {},
   "outputs": [
    {
     "data": {
      "application/vnd.jupyter.widget-view+json": {
       "model_id": "390ac5965ba343c4a21b3816966a8c4b",
       "version_major": 2,
       "version_minor": 0
      },
      "text/plain": [
       "chembl_drugs.smi:   0%|                                                                  | 0.00/84.8k [00:00<?…"
      ]
     },
     "metadata": {},
     "output_type": "display_data"
    },
    {
     "data": {
      "text/plain": [
       "ConversionInfo('processed structures from a file. #source_records=1203, #destination_records=1203 (total: 2.09 s)')"
      ]
     },
     "execution_count": 3,
     "metadata": {},
     "output_type": "execute_result"
    }
   ],
   "source": [
    "chemfp.ob2fps(\"chembl_drugs.smi\", \"ob_maccs.fps\", type=\"maccs\")"
   ]
  },
  {
   "cell_type": "code",
   "execution_count": 4,
   "id": "cb8349c2",
   "metadata": {},
   "outputs": [
    {
     "data": {
      "application/vnd.jupyter.widget-view+json": {
       "model_id": "f865ad817f3a43269abb3e7ebe558ad1",
       "version_major": 2,
       "version_minor": 0
      },
      "text/plain": [
       "chembl_drugs.smi:   0%|                                                                  | 0.00/84.8k [00:00<?…"
      ]
     },
     "metadata": {},
     "output_type": "display_data"
    },
    {
     "data": {
      "text/plain": [
       "ConversionInfo('processed structures from a file. #source_records=1203, #destination_records=1203 (total: 4.07 s)')"
      ]
     },
     "execution_count": 4,
     "metadata": {},
     "output_type": "execute_result"
    }
   ],
   "source": [
    "chemfp.rdkit2fps(\"chembl_drugs.smi\", \"rdkit_maccs.fps\", type=\"maccs\")"
   ]
  },
  {
   "cell_type": "markdown",
   "id": "1a58ca59",
   "metadata": {},
   "source": [
    "### `chemfp.simsearch` with a single query\n",
    "\n",
    "The `chemfp.simsearch` command, for example returns a SimsearchInfo object with a `result` property:"
   ]
  },
  {
   "cell_type": "code",
   "execution_count": 5,
   "id": "7c7607ff",
   "metadata": {},
   "outputs": [
    {
     "data": {
      "text/plain": [
       "SimsearchInfo('5-nearest Tanimoto search. #queries=1, #targets=1203 (search: 371.93 us total: 104.72 ms)'\", result=SearchResult(#hits=5))"
      ]
     },
     "execution_count": 5,
     "metadata": {},
     "output_type": "execute_result"
    }
   ],
   "source": [
    "imatinib_smiles = 'Cc1ccc(cc1Nc2nccc(n2)c3cccnc3)NC(=O)c4ccc(cc4)CN5CCN(CC5)C'\n",
    "info = chemfp.simsearch(query = imatinib_smiles, targets = \"chembl_drugs.fpb\", k=5)\n",
    "info"
   ]
  },
  {
   "cell_type": "markdown",
   "id": "482cac61",
   "metadata": {},
   "source": [
    "Many of the chemfp objects have been improved for use in a notebook environment, including adding useful \"repr\"s (the default text describing the object), and adding a `to_pandas()` method to convert the result to a pandas DataFrame."
   ]
  },
  {
   "cell_type": "code",
   "execution_count": 6,
   "id": "84f49cc6",
   "metadata": {},
   "outputs": [
    {
     "data": {
      "text/html": [
       "<div>\n",
       "<style scoped>\n",
       "    .dataframe tbody tr th:only-of-type {\n",
       "        vertical-align: middle;\n",
       "    }\n",
       "\n",
       "    .dataframe tbody tr th {\n",
       "        vertical-align: top;\n",
       "    }\n",
       "\n",
       "    .dataframe thead th {\n",
       "        text-align: right;\n",
       "    }\n",
       "</style>\n",
       "<table border=\"1\" class=\"dataframe\">\n",
       "  <thead>\n",
       "    <tr style=\"text-align: right;\">\n",
       "      <th></th>\n",
       "      <th>target_id</th>\n",
       "      <th>score</th>\n",
       "    </tr>\n",
       "  </thead>\n",
       "  <tbody>\n",
       "    <tr>\n",
       "      <th>0</th>\n",
       "      <td>CHEMBL1642</td>\n",
       "      <td>0.942029</td>\n",
       "    </tr>\n",
       "    <tr>\n",
       "      <th>1</th>\n",
       "      <td>CHEMBL1201740</td>\n",
       "      <td>0.505495</td>\n",
       "    </tr>\n",
       "    <tr>\n",
       "      <th>2</th>\n",
       "      <td>CHEMBL2105708</td>\n",
       "      <td>0.393939</td>\n",
       "    </tr>\n",
       "    <tr>\n",
       "      <th>3</th>\n",
       "      <td>CHEMBL1421</td>\n",
       "      <td>0.274510</td>\n",
       "    </tr>\n",
       "    <tr>\n",
       "      <th>4</th>\n",
       "      <td>CHEMBL1201733</td>\n",
       "      <td>0.255102</td>\n",
       "    </tr>\n",
       "  </tbody>\n",
       "</table>\n",
       "</div>"
      ],
      "text/plain": [
       "       target_id     score\n",
       "0     CHEMBL1642  0.942029\n",
       "1  CHEMBL1201740  0.505495\n",
       "2  CHEMBL2105708  0.393939\n",
       "3     CHEMBL1421  0.274510\n",
       "4  CHEMBL1201733  0.255102"
      ]
     },
     "execution_count": 6,
     "metadata": {},
     "output_type": "execute_result"
    }
   ],
   "source": [
    "info.result.to_pandas()"
   ]
  },
  {
   "cell_type": "markdown",
   "id": "3edf596e",
   "metadata": {},
   "source": [
    "You can specify different columns if you wish."
   ]
  },
  {
   "cell_type": "code",
   "execution_count": 7,
   "id": "fac04f4a",
   "metadata": {},
   "outputs": [
    {
     "data": {
      "text/html": [
       "<div>\n",
       "<style scoped>\n",
       "    .dataframe tbody tr th:only-of-type {\n",
       "        vertical-align: middle;\n",
       "    }\n",
       "\n",
       "    .dataframe tbody tr th {\n",
       "        vertical-align: top;\n",
       "    }\n",
       "\n",
       "    .dataframe thead th {\n",
       "        text-align: right;\n",
       "    }\n",
       "</style>\n",
       "<table border=\"1\" class=\"dataframe\">\n",
       "  <thead>\n",
       "    <tr style=\"text-align: right;\">\n",
       "      <th></th>\n",
       "      <th>ChEMBL id</th>\n",
       "      <th>Tanimoto</th>\n",
       "    </tr>\n",
       "  </thead>\n",
       "  <tbody>\n",
       "    <tr>\n",
       "      <th>0</th>\n",
       "      <td>CHEMBL1642</td>\n",
       "      <td>0.942029</td>\n",
       "    </tr>\n",
       "    <tr>\n",
       "      <th>1</th>\n",
       "      <td>CHEMBL1201740</td>\n",
       "      <td>0.505495</td>\n",
       "    </tr>\n",
       "    <tr>\n",
       "      <th>2</th>\n",
       "      <td>CHEMBL2105708</td>\n",
       "      <td>0.393939</td>\n",
       "    </tr>\n",
       "    <tr>\n",
       "      <th>3</th>\n",
       "      <td>CHEMBL1421</td>\n",
       "      <td>0.274510</td>\n",
       "    </tr>\n",
       "    <tr>\n",
       "      <th>4</th>\n",
       "      <td>CHEMBL1201733</td>\n",
       "      <td>0.255102</td>\n",
       "    </tr>\n",
       "  </tbody>\n",
       "</table>\n",
       "</div>"
      ],
      "text/plain": [
       "       ChEMBL id  Tanimoto\n",
       "0     CHEMBL1642  0.942029\n",
       "1  CHEMBL1201740  0.505495\n",
       "2  CHEMBL2105708  0.393939\n",
       "3     CHEMBL1421  0.274510\n",
       "4  CHEMBL1201733  0.255102"
      ]
     },
     "execution_count": 7,
     "metadata": {},
     "output_type": "execute_result"
    }
   ],
   "source": [
    "info.result.to_pandas(columns=[\"ChEMBL id\", \"Tanimoto\"])"
   ]
  },
  {
   "cell_type": "markdown",
   "id": "2838a687",
   "metadata": {},
   "source": [
    "I'll follow Pat's lead and show the matching SMILES strings as well, using pandas to merge these results with the data from the SMILES file:"
   ]
  },
  {
   "cell_type": "code",
   "execution_count": 8,
   "id": "7527a3df",
   "metadata": {},
   "outputs": [
    {
     "data": {
      "text/html": [
       "<div>\n",
       "<style scoped>\n",
       "    .dataframe tbody tr th:only-of-type {\n",
       "        vertical-align: middle;\n",
       "    }\n",
       "\n",
       "    .dataframe tbody tr th {\n",
       "        vertical-align: top;\n",
       "    }\n",
       "\n",
       "    .dataframe thead th {\n",
       "        text-align: right;\n",
       "    }\n",
       "</style>\n",
       "<table border=\"1\" class=\"dataframe\">\n",
       "  <thead>\n",
       "    <tr style=\"text-align: right;\">\n",
       "      <th></th>\n",
       "      <th>Name</th>\n",
       "      <th>Sim</th>\n",
       "      <th>SMILES</th>\n",
       "    </tr>\n",
       "  </thead>\n",
       "  <tbody>\n",
       "    <tr>\n",
       "      <th>0</th>\n",
       "      <td>CHEMBL1642</td>\n",
       "      <td>0.942029</td>\n",
       "      <td>CS(=O)(=O)O.Cc1ccc(NC(=O)c2ccc(CN3CCN(C)CC3)cc...</td>\n",
       "    </tr>\n",
       "    <tr>\n",
       "      <th>1</th>\n",
       "      <td>CHEMBL1201740</td>\n",
       "      <td>0.505495</td>\n",
       "      <td>Cc1cn(-c2cc(NC(=O)c3ccc(C)c(Nc4nccc(-c5cccnc5)...</td>\n",
       "    </tr>\n",
       "    <tr>\n",
       "      <th>2</th>\n",
       "      <td>CHEMBL2105708</td>\n",
       "      <td>0.393939</td>\n",
       "      <td>Cc1ccc(C(=O)Nc2ccc(CN3CCN(C)CC3)c(C(F)(F)F)c2)...</td>\n",
       "    </tr>\n",
       "    <tr>\n",
       "      <th>3</th>\n",
       "      <td>CHEMBL1421</td>\n",
       "      <td>0.274510</td>\n",
       "      <td>Cc1nc(Nc2ncc(C(=O)Nc3c(C)cccc3Cl)s2)cc(N2CCN(C...</td>\n",
       "    </tr>\n",
       "    <tr>\n",
       "      <th>4</th>\n",
       "      <td>CHEMBL1201733</td>\n",
       "      <td>0.255102</td>\n",
       "      <td>Cc1ccc(Nc2nccc(N(C)c3ccc4c(C)n(C)nc4c3)n2)cc1S...</td>\n",
       "    </tr>\n",
       "  </tbody>\n",
       "</table>\n",
       "</div>"
      ],
      "text/plain": [
       "            Name       Sim                                             SMILES\n",
       "0     CHEMBL1642  0.942029  CS(=O)(=O)O.Cc1ccc(NC(=O)c2ccc(CN3CCN(C)CC3)cc...\n",
       "1  CHEMBL1201740  0.505495  Cc1cn(-c2cc(NC(=O)c3ccc(C)c(Nc4nccc(-c5cccnc5)...\n",
       "2  CHEMBL2105708  0.393939  Cc1ccc(C(=O)Nc2ccc(CN3CCN(C)CC3)c(C(F)(F)F)c2)...\n",
       "3     CHEMBL1421  0.274510  Cc1nc(Nc2ncc(C(=O)Nc3c(C)cccc3Cl)s2)cc(N2CCN(C...\n",
       "4  CHEMBL1201733  0.255102  Cc1ccc(Nc2nccc(N(C)c3ccc4c(C)n(C)nc4c3)n2)cc1S..."
      ]
     },
     "execution_count": 8,
     "metadata": {},
     "output_type": "execute_result"
    }
   ],
   "source": [
    "import pandas as pd\n",
    "drug_df = pd.read_csv(\"chembl_drugs.smi\",sep=\" \",names=[\"SMILES\",\"Name\"])\n",
    "nearest_df = info.result.to_pandas(columns=[\"Name\", \"Sim\"])\n",
    "nearest_df.merge(drug_df, on=\"Name\")"
   ]
  },
  {
   "cell_type": "markdown",
   "id": "1bcfe317",
   "metadata": {},
   "source": [
    "### `chemfp.simsearch` with a k=5 NxN search\n",
    "\n",
    "I'll now find the 5-nearest neighbors for each fingerprint in `chembl_drugs.fpb`."
   ]
  },
  {
   "cell_type": "code",
   "execution_count": 9,
   "id": "72ff0fef",
   "metadata": {},
   "outputs": [
    {
     "data": {
      "application/vnd.jupyter.widget-view+json": {
       "model_id": "0e5d5a2bf1bc4d638af5c2aa2970b391",
       "version_major": 2,
       "version_minor": 0
      },
      "text/plain": [
       "queries:   0%|          | 0/1203 [00:00<?, ?fps/s]"
      ]
     },
     "metadata": {},
     "output_type": "display_data"
    },
    {
     "data": {
      "text/plain": [
       "SimsearchInfo('5-nearest Tanimoto NxN search. #fingerprints=1203 (search: 110.26 ms total: 163.03 ms)'\", result=SearchResults(#queries=1203, #targets=1203))"
      ]
     },
     "execution_count": 9,
     "metadata": {},
     "output_type": "execute_result"
    }
   ],
   "source": [
    "info = chemfp.simsearch(targets=\"chembl_drugs.fpb\", NxN=True, k=5)\n",
    "info"
   ]
  },
  {
   "cell_type": "markdown",
   "id": "94fdb493",
   "metadata": {},
   "source": [
    "The `SimsearchInfo.result` in this case contains a `SearchResults` object, which has been part of chemfp for a long time. The chemfp 4.0 release adds a `to_pandas()` method, which returns a data frame with three columns:"
   ]
  },
  {
   "cell_type": "code",
   "execution_count": 10,
   "id": "a573001e",
   "metadata": {},
   "outputs": [
    {
     "data": {
      "text/html": [
       "<div>\n",
       "<style scoped>\n",
       "    .dataframe tbody tr th:only-of-type {\n",
       "        vertical-align: middle;\n",
       "    }\n",
       "\n",
       "    .dataframe tbody tr th {\n",
       "        vertical-align: top;\n",
       "    }\n",
       "\n",
       "    .dataframe thead th {\n",
       "        text-align: right;\n",
       "    }\n",
       "</style>\n",
       "<table border=\"1\" class=\"dataframe\">\n",
       "  <thead>\n",
       "    <tr style=\"text-align: right;\">\n",
       "      <th></th>\n",
       "      <th>query_id</th>\n",
       "      <th>target_id</th>\n",
       "      <th>score</th>\n",
       "    </tr>\n",
       "  </thead>\n",
       "  <tbody>\n",
       "    <tr>\n",
       "      <th>0</th>\n",
       "      <td>CHEMBL1201084</td>\n",
       "      <td>CHEMBL1201083</td>\n",
       "      <td>0.333333</td>\n",
       "    </tr>\n",
       "    <tr>\n",
       "      <th>1</th>\n",
       "      <td>CHEMBL1201084</td>\n",
       "      <td>CHEMBL1200574</td>\n",
       "      <td>0.333333</td>\n",
       "    </tr>\n",
       "    <tr>\n",
       "      <th>2</th>\n",
       "      <td>CHEMBL1201084</td>\n",
       "      <td>CHEMBL1353</td>\n",
       "      <td>0.111111</td>\n",
       "    </tr>\n",
       "    <tr>\n",
       "      <th>3</th>\n",
       "      <td>CHEMBL1201084</td>\n",
       "      <td>CHEMBL3989856</td>\n",
       "      <td>0.111111</td>\n",
       "    </tr>\n",
       "    <tr>\n",
       "      <th>4</th>\n",
       "      <td>CHEMBL1201084</td>\n",
       "      <td>CHEMBL2107525</td>\n",
       "      <td>0.100000</td>\n",
       "    </tr>\n",
       "    <tr>\n",
       "      <th>...</th>\n",
       "      <td>...</td>\n",
       "      <td>...</td>\n",
       "      <td>...</td>\n",
       "    </tr>\n",
       "    <tr>\n",
       "      <th>6010</th>\n",
       "      <td>CHEMBL3707372</td>\n",
       "      <td>CHEMBL2063090</td>\n",
       "      <td>0.496350</td>\n",
       "    </tr>\n",
       "    <tr>\n",
       "      <th>6011</th>\n",
       "      <td>CHEMBL3707372</td>\n",
       "      <td>CHEMBL3545363</td>\n",
       "      <td>0.496350</td>\n",
       "    </tr>\n",
       "    <tr>\n",
       "      <th>6012</th>\n",
       "      <td>CHEMBL3707372</td>\n",
       "      <td>CHEMBL3707183</td>\n",
       "      <td>0.194245</td>\n",
       "    </tr>\n",
       "    <tr>\n",
       "      <th>6013</th>\n",
       "      <td>CHEMBL3707372</td>\n",
       "      <td>CHEMBL2359966</td>\n",
       "      <td>0.194245</td>\n",
       "    </tr>\n",
       "    <tr>\n",
       "      <th>6014</th>\n",
       "      <td>CHEMBL3707372</td>\n",
       "      <td>CHEMBL3391662</td>\n",
       "      <td>0.192771</td>\n",
       "    </tr>\n",
       "  </tbody>\n",
       "</table>\n",
       "<p>6015 rows × 3 columns</p>\n",
       "</div>"
      ],
      "text/plain": [
       "           query_id      target_id     score\n",
       "0     CHEMBL1201084  CHEMBL1201083  0.333333\n",
       "1     CHEMBL1201084  CHEMBL1200574  0.333333\n",
       "2     CHEMBL1201084     CHEMBL1353  0.111111\n",
       "3     CHEMBL1201084  CHEMBL3989856  0.111111\n",
       "4     CHEMBL1201084  CHEMBL2107525  0.100000\n",
       "...             ...            ...       ...\n",
       "6010  CHEMBL3707372  CHEMBL2063090  0.496350\n",
       "6011  CHEMBL3707372  CHEMBL3545363  0.496350\n",
       "6012  CHEMBL3707372  CHEMBL3707183  0.194245\n",
       "6013  CHEMBL3707372  CHEMBL2359966  0.194245\n",
       "6014  CHEMBL3707372  CHEMBL3391662  0.192771\n",
       "\n",
       "[6015 rows x 3 columns]"
      ]
     },
     "execution_count": 10,
     "metadata": {},
     "output_type": "execute_result"
    }
   ],
   "source": [
    "info.result.to_pandas()"
   ]
  },
  {
   "cell_type": "code",
   "execution_count": 11,
   "id": "cd375af3",
   "metadata": {},
   "outputs": [
    {
     "data": {
      "text/plain": [
       "<AxesSubplot:xlabel='score', ylabel='Density'>"
      ]
     },
     "execution_count": 11,
     "metadata": {},
     "output_type": "execute_result"
    },
    {
     "data": {
      "image/png": "[encoded data removed]",
      "text/plain": [
       "<Figure size 432x288 with 1 Axes>"
      ]
     },
     "metadata": {
      "needs_background": "light"
     },
     "output_type": "display_data"
    }
   ],
   "source": [
    "import seaborn as sns\n",
    "sns.kdeplot(info.result.to_pandas()[\"score\"])"
   ]
  },
  {
   "cell_type": "markdown",
   "id": "67be003b",
   "metadata": {},
   "source": [
    "### to_pandas() when a query has no matches.\n",
    "\n",
    "I'll do another NxN search, this time with a threshold."
   ]
  },
  {
   "cell_type": "code",
   "execution_count": 12,
   "id": "d68ff1ca",
   "metadata": {},
   "outputs": [
    {
     "data": {
      "application/vnd.jupyter.widget-view+json": {
       "model_id": "daabd7b512ec4ebfaedf6f393c5a984c",
       "version_major": 2,
       "version_minor": 0
      },
      "text/plain": [
       "queries:   0%|          | 0/1203 [00:00<?, ?fps/s]"
      ]
     },
     "metadata": {},
     "output_type": "display_data"
    },
    {
     "data": {
      "text/plain": [
       "SimsearchInfo('Tanimoto threshold >= 0.7 NxN search. #fingerprints=1203 (search: 229.59 ms total: 240.22 ms)'\", result=SearchResults(#queries=1203, #targets=1203))"
      ]
     },
     "execution_count": 12,
     "metadata": {},
     "output_type": "execute_result"
    }
   ],
   "source": [
    "info = chemfp.simsearch(NxN=True, threshold=0.7, targets=\"chembl_drugs.fpb\")\n",
    "info"
   ]
  },
  {
   "cell_type": "markdown",
   "id": "55d6c1bb",
   "metadata": {},
   "source": [
    "Let's take a look at the results as a pandas DataFrame."
   ]
  },
  {
   "cell_type": "code",
   "execution_count": 13,
   "id": "cc177f17",
   "metadata": {},
   "outputs": [
    {
     "data": {
      "text/html": [
       "<div>\n",
       "<style scoped>\n",
       "    .dataframe tbody tr th:only-of-type {\n",
       "        vertical-align: middle;\n",
       "    }\n",
       "\n",
       "    .dataframe tbody tr th {\n",
       "        vertical-align: top;\n",
       "    }\n",
       "\n",
       "    .dataframe thead th {\n",
       "        text-align: right;\n",
       "    }\n",
       "</style>\n",
       "<table border=\"1\" class=\"dataframe\">\n",
       "  <thead>\n",
       "    <tr style=\"text-align: right;\">\n",
       "      <th></th>\n",
       "      <th>query_id</th>\n",
       "      <th>target_id</th>\n",
       "      <th>score</th>\n",
       "    </tr>\n",
       "  </thead>\n",
       "  <tbody>\n",
       "    <tr>\n",
       "      <th>0</th>\n",
       "      <td>CHEMBL1201084</td>\n",
       "      <td>*</td>\n",
       "      <td>NaN</td>\n",
       "    </tr>\n",
       "    <tr>\n",
       "      <th>1</th>\n",
       "      <td>CHEMBL1200731</td>\n",
       "      <td>*</td>\n",
       "      <td>NaN</td>\n",
       "    </tr>\n",
       "    <tr>\n",
       "      <th>2</th>\n",
       "      <td>CHEMBL1201083</td>\n",
       "      <td>*</td>\n",
       "      <td>NaN</td>\n",
       "    </tr>\n",
       "    <tr>\n",
       "      <th>3</th>\n",
       "      <td>CHEMBL1141</td>\n",
       "      <td>*</td>\n",
       "      <td>NaN</td>\n",
       "    </tr>\n",
       "    <tr>\n",
       "      <th>4</th>\n",
       "      <td>CHEMBL1200706</td>\n",
       "      <td>*</td>\n",
       "      <td>NaN</td>\n",
       "    </tr>\n",
       "    <tr>\n",
       "      <th>...</th>\n",
       "      <td>...</td>\n",
       "      <td>...</td>\n",
       "      <td>...</td>\n",
       "    </tr>\n",
       "    <tr>\n",
       "      <th>1348</th>\n",
       "      <td>CHEMBL3545062</td>\n",
       "      <td>*</td>\n",
       "      <td>NaN</td>\n",
       "    </tr>\n",
       "    <tr>\n",
       "      <th>1349</th>\n",
       "      <td>CHEMBL3137333</td>\n",
       "      <td>*</td>\n",
       "      <td>NaN</td>\n",
       "    </tr>\n",
       "    <tr>\n",
       "      <th>1350</th>\n",
       "      <td>CHEMBL1908360</td>\n",
       "      <td>CHEMBL413</td>\n",
       "      <td>0.872727</td>\n",
       "    </tr>\n",
       "    <tr>\n",
       "      <th>1351</th>\n",
       "      <td>CHEMBL3137309</td>\n",
       "      <td>*</td>\n",
       "      <td>NaN</td>\n",
       "    </tr>\n",
       "    <tr>\n",
       "      <th>1352</th>\n",
       "      <td>CHEMBL3707372</td>\n",
       "      <td>*</td>\n",
       "      <td>NaN</td>\n",
       "    </tr>\n",
       "  </tbody>\n",
       "</table>\n",
       "<p>1353 rows × 3 columns</p>\n",
       "</div>"
      ],
      "text/plain": [
       "           query_id  target_id     score\n",
       "0     CHEMBL1201084          *       NaN\n",
       "1     CHEMBL1200731          *       NaN\n",
       "2     CHEMBL1201083          *       NaN\n",
       "3        CHEMBL1141          *       NaN\n",
       "4     CHEMBL1200706          *       NaN\n",
       "...             ...        ...       ...\n",
       "1348  CHEMBL3545062          *       NaN\n",
       "1349  CHEMBL3137333          *       NaN\n",
       "1350  CHEMBL1908360  CHEMBL413  0.872727\n",
       "1351  CHEMBL3137309          *       NaN\n",
       "1352  CHEMBL3707372          *       NaN\n",
       "\n",
       "[1353 rows x 3 columns]"
      ]
     },
     "execution_count": 13,
     "metadata": {},
     "output_type": "execute_result"
    }
   ],
   "source": [
    "info.result.to_pandas()"
   ]
  },
  {
   "cell_type": "markdown",
   "id": "3b7638bf",
   "metadata": {},
   "source": [
    "The NaN columns occur for queries which have no matches. Chemfp stores a list of hits for query. The `to_pandas()` flattens the list by using the query id for the first column and creating a new row for each hit (target id and score).\n",
    "\n",
    "But what to do if there are not matches? I decided to insert a placeholder row, so each query id occurs at least once in the output data frame (even if there are no matches), and use the placeholder id `*` and \"not a number\" value for the score.\n",
    "\n",
    "Pandas and other tools handle NaN values correctly, usually by ignoring them."
   ]
  },
  {
   "cell_type": "code",
   "execution_count": 14,
   "id": "612fb439",
   "metadata": {},
   "outputs": [
    {
     "data": {
      "text/plain": [
       "<AxesSubplot:xlabel='score', ylabel='Density'>"
      ]
     },
     "execution_count": 14,
     "metadata": {},
     "output_type": "execute_result"
    },
    {
     "data": {
      "image/png": "[encoded data removed]",
      "text/plain": [
       "<Figure size 432x288 with 1 Axes>"
      ]
     },
     "metadata": {
      "needs_background": "light"
     },
     "output_type": "display_data"
    }
   ],
   "source": [
    "sns.kdeplot(info.result.to_pandas()[\"score\"])"
   ]
  },
  {
   "cell_type": "markdown",
   "id": "019bd543",
   "metadata": {},
   "source": [
    "You can specify an alternative placeholder name and value with the `empty` parameter:"
   ]
  },
  {
   "cell_type": "code",
   "execution_count": 15,
   "id": "73544808",
   "metadata": {},
   "outputs": [
    {
     "data": {
      "text/html": [
       "<div>\n",
       "<style scoped>\n",
       "    .dataframe tbody tr th:only-of-type {\n",
       "        vertical-align: middle;\n",
       "    }\n",
       "\n",
       "    .dataframe tbody tr th {\n",
       "        vertical-align: top;\n",
       "    }\n",
       "\n",
       "    .dataframe thead th {\n",
       "        text-align: right;\n",
       "    }\n",
       "</style>\n",
       "<table border=\"1\" class=\"dataframe\">\n",
       "  <thead>\n",
       "    <tr style=\"text-align: right;\">\n",
       "      <th></th>\n",
       "      <th>query_id</th>\n",
       "      <th>target_id</th>\n",
       "      <th>score</th>\n",
       "    </tr>\n",
       "  </thead>\n",
       "  <tbody>\n",
       "    <tr>\n",
       "      <th>0</th>\n",
       "      <td>CHEMBL1201084</td>\n",
       "      <td>None</td>\n",
       "      <td>0.000000</td>\n",
       "    </tr>\n",
       "    <tr>\n",
       "      <th>1</th>\n",
       "      <td>CHEMBL1200731</td>\n",
       "      <td>None</td>\n",
       "      <td>0.000000</td>\n",
       "    </tr>\n",
       "    <tr>\n",
       "      <th>2</th>\n",
       "      <td>CHEMBL1201083</td>\n",
       "      <td>None</td>\n",
       "      <td>0.000000</td>\n",
       "    </tr>\n",
       "    <tr>\n",
       "      <th>3</th>\n",
       "      <td>CHEMBL1141</td>\n",
       "      <td>None</td>\n",
       "      <td>0.000000</td>\n",
       "    </tr>\n",
       "    <tr>\n",
       "      <th>4</th>\n",
       "      <td>CHEMBL1200706</td>\n",
       "      <td>None</td>\n",
       "      <td>0.000000</td>\n",
       "    </tr>\n",
       "    <tr>\n",
       "      <th>...</th>\n",
       "      <td>...</td>\n",
       "      <td>...</td>\n",
       "      <td>...</td>\n",
       "    </tr>\n",
       "    <tr>\n",
       "      <th>1348</th>\n",
       "      <td>CHEMBL3545062</td>\n",
       "      <td>None</td>\n",
       "      <td>0.000000</td>\n",
       "    </tr>\n",
       "    <tr>\n",
       "      <th>1349</th>\n",
       "      <td>CHEMBL3137333</td>\n",
       "      <td>None</td>\n",
       "      <td>0.000000</td>\n",
       "    </tr>\n",
       "    <tr>\n",
       "      <th>1350</th>\n",
       "      <td>CHEMBL1908360</td>\n",
       "      <td>CHEMBL413</td>\n",
       "      <td>0.872727</td>\n",
       "    </tr>\n",
       "    <tr>\n",
       "      <th>1351</th>\n",
       "      <td>CHEMBL3137309</td>\n",
       "      <td>None</td>\n",
       "      <td>0.000000</td>\n",
       "    </tr>\n",
       "    <tr>\n",
       "      <th>1352</th>\n",
       "      <td>CHEMBL3707372</td>\n",
       "      <td>None</td>\n",
       "      <td>0.000000</td>\n",
       "    </tr>\n",
       "  </tbody>\n",
       "</table>\n",
       "<p>1353 rows × 3 columns</p>\n",
       "</div>"
      ],
      "text/plain": [
       "           query_id  target_id     score\n",
       "0     CHEMBL1201084       None  0.000000\n",
       "1     CHEMBL1200731       None  0.000000\n",
       "2     CHEMBL1201083       None  0.000000\n",
       "3        CHEMBL1141       None  0.000000\n",
       "4     CHEMBL1200706       None  0.000000\n",
       "...             ...        ...       ...\n",
       "1348  CHEMBL3545062       None  0.000000\n",
       "1349  CHEMBL3137333       None  0.000000\n",
       "1350  CHEMBL1908360  CHEMBL413  0.872727\n",
       "1351  CHEMBL3137309       None  0.000000\n",
       "1352  CHEMBL3707372       None  0.000000\n",
       "\n",
       "[1353 rows x 3 columns]"
      ]
     },
     "execution_count": 15,
     "metadata": {},
     "output_type": "execute_result"
    }
   ],
   "source": [
    "info.result.to_pandas(empty=(None, 0.0))"
   ]
  },
  {
   "cell_type": "markdown",
   "id": "98d7db03",
   "metadata": {},
   "source": [
    "Or pass `empty=None` to not include placeholder rows for queries with no hits."
   ]
  },
  {
   "cell_type": "code",
   "execution_count": 16,
   "id": "d2211dd9",
   "metadata": {},
   "outputs": [
    {
     "data": {
      "text/html": [
       "<div>\n",
       "<style scoped>\n",
       "    .dataframe tbody tr th:only-of-type {\n",
       "        vertical-align: middle;\n",
       "    }\n",
       "\n",
       "    .dataframe tbody tr th {\n",
       "        vertical-align: top;\n",
       "    }\n",
       "\n",
       "    .dataframe thead th {\n",
       "        text-align: right;\n",
       "    }\n",
       "</style>\n",
       "<table border=\"1\" class=\"dataframe\">\n",
       "  <thead>\n",
       "    <tr style=\"text-align: right;\">\n",
       "      <th></th>\n",
       "      <th>query_id</th>\n",
       "      <th>target_id</th>\n",
       "      <th>score</th>\n",
       "    </tr>\n",
       "  </thead>\n",
       "  <tbody>\n",
       "    <tr>\n",
       "      <th>0</th>\n",
       "      <td>CHEMBL1200826</td>\n",
       "      <td>CHEMBL1200539</td>\n",
       "      <td>0.750000</td>\n",
       "    </tr>\n",
       "    <tr>\n",
       "      <th>1</th>\n",
       "      <td>CHEMBL1200539</td>\n",
       "      <td>CHEMBL1200826</td>\n",
       "      <td>0.750000</td>\n",
       "    </tr>\n",
       "    <tr>\n",
       "      <th>2</th>\n",
       "      <td>CHEMBL2021424</td>\n",
       "      <td>CHEMBL2105897</td>\n",
       "      <td>0.750000</td>\n",
       "    </tr>\n",
       "    <tr>\n",
       "      <th>3</th>\n",
       "      <td>CHEMBL2105897</td>\n",
       "      <td>CHEMBL2021424</td>\n",
       "      <td>0.750000</td>\n",
       "    </tr>\n",
       "    <tr>\n",
       "      <th>4</th>\n",
       "      <td>CHEMBL3989856</td>\n",
       "      <td>CHEMBL3989857</td>\n",
       "      <td>0.777778</td>\n",
       "    </tr>\n",
       "    <tr>\n",
       "      <th>...</th>\n",
       "      <td>...</td>\n",
       "      <td>...</td>\n",
       "      <td>...</td>\n",
       "    </tr>\n",
       "    <tr>\n",
       "      <th>439</th>\n",
       "      <td>CHEMBL2218877</td>\n",
       "      <td>CHEMBL532</td>\n",
       "      <td>0.710000</td>\n",
       "    </tr>\n",
       "    <tr>\n",
       "      <th>440</th>\n",
       "      <td>CHEMBL2218877</td>\n",
       "      <td>CHEMBL1200688</td>\n",
       "      <td>0.750000</td>\n",
       "    </tr>\n",
       "    <tr>\n",
       "      <th>441</th>\n",
       "      <td>CHEMBL2218877</td>\n",
       "      <td>CHEMBL1200510</td>\n",
       "      <td>0.726415</td>\n",
       "    </tr>\n",
       "    <tr>\n",
       "      <th>442</th>\n",
       "      <td>CHEMBL413</td>\n",
       "      <td>CHEMBL1908360</td>\n",
       "      <td>0.872727</td>\n",
       "    </tr>\n",
       "    <tr>\n",
       "      <th>443</th>\n",
       "      <td>CHEMBL1908360</td>\n",
       "      <td>CHEMBL413</td>\n",
       "      <td>0.872727</td>\n",
       "    </tr>\n",
       "  </tbody>\n",
       "</table>\n",
       "<p>444 rows × 3 columns</p>\n",
       "</div>"
      ],
      "text/plain": [
       "          query_id      target_id     score\n",
       "0    CHEMBL1200826  CHEMBL1200539  0.750000\n",
       "1    CHEMBL1200539  CHEMBL1200826  0.750000\n",
       "2    CHEMBL2021424  CHEMBL2105897  0.750000\n",
       "3    CHEMBL2105897  CHEMBL2021424  0.750000\n",
       "4    CHEMBL3989856  CHEMBL3989857  0.777778\n",
       "..             ...            ...       ...\n",
       "439  CHEMBL2218877      CHEMBL532  0.710000\n",
       "440  CHEMBL2218877  CHEMBL1200688  0.750000\n",
       "441  CHEMBL2218877  CHEMBL1200510  0.726415\n",
       "442      CHEMBL413  CHEMBL1908360  0.872727\n",
       "443  CHEMBL1908360      CHEMBL413  0.872727\n",
       "\n",
       "[444 rows x 3 columns]"
      ]
     },
     "execution_count": 16,
     "metadata": {},
     "output_type": "execute_result"
    }
   ],
   "source": [
    "info.result.to_pandas(empty=None)"
   ]
  },
  {
   "cell_type": "markdown",
   "id": "2e29a94b",
   "metadata": {},
   "source": [
    "## `chemfp.maxmin`\n",
    "\n",
    "There are also high-level interface to the MaxMin and sphere exclusion algorithms, as `chemfp.maxmin` and `chemfp.spherex`."
   ]
  },
  {
   "cell_type": "code",
   "execution_count": 17,
   "id": "6930b628",
   "metadata": {},
   "outputs": [
    {
     "data": {
      "application/vnd.jupyter.widget-view+json": {
       "model_id": "c55cec3c767f4c89a0e85da0588dadaf",
       "version_major": 2,
       "version_minor": 0
      },
      "text/plain": [
       "picks:   0%|                                                                                        | 0/10 [00…"
      ]
     },
     "metadata": {},
     "output_type": "display_data"
    },
    {
     "data": {
      "text/plain": [
       "MaxMinInfo('picked 10 fps. similarity <= 1.0, #candidates=8074078, #library=2066376 (pick: 7.58 s, total: 11.10 s)', picker=MaxMinPicker(#candidates=8074068, #picks=10), result=PicksAndScores(#picks=10))"
      ]
     },
     "execution_count": 17,
     "metadata": {},
     "output_type": "execute_result"
    }
   ],
   "source": [
    "info = chemfp.maxmin(\n",
    "    candidates = \"molport/All Stock Compounds/all_stock_compounds.fpb\",\n",
    "    library = \"chembl_28.fpb\",\n",
    "    num_picks = 10)\n",
    "info"
   ]
  },
  {
   "cell_type": "markdown",
   "id": "ebaaa9d8",
   "metadata": {},
   "source": [
    "The MaxMinInfo object's `result` by default contains the picks and corresponding maximum similarity score."
   ]
  },
  {
   "cell_type": "code",
   "execution_count": 18,
   "id": "a663f5a3",
   "metadata": {},
   "outputs": [
    {
     "data": {
      "text/html": [
       "<div>\n",
       "<style scoped>\n",
       "    .dataframe tbody tr th:only-of-type {\n",
       "        vertical-align: middle;\n",
       "    }\n",
       "\n",
       "    .dataframe tbody tr th {\n",
       "        vertical-align: top;\n",
       "    }\n",
       "\n",
       "    .dataframe thead th {\n",
       "        text-align: right;\n",
       "    }\n",
       "</style>\n",
       "<table border=\"1\" class=\"dataframe\">\n",
       "  <thead>\n",
       "    <tr style=\"text-align: right;\">\n",
       "      <th></th>\n",
       "      <th>pick_id</th>\n",
       "      <th>score</th>\n",
       "    </tr>\n",
       "  </thead>\n",
       "  <tbody>\n",
       "    <tr>\n",
       "      <th>0</th>\n",
       "      <td>MolPort-035-944-309</td>\n",
       "      <td>0.066667</td>\n",
       "    </tr>\n",
       "    <tr>\n",
       "      <th>1</th>\n",
       "      <td>MolPort-003-925-243</td>\n",
       "      <td>0.076923</td>\n",
       "    </tr>\n",
       "    <tr>\n",
       "      <th>2</th>\n",
       "      <td>MolPort-046-418-717</td>\n",
       "      <td>0.096774</td>\n",
       "    </tr>\n",
       "    <tr>\n",
       "      <th>3</th>\n",
       "      <td>MolPort-047-715-359</td>\n",
       "      <td>0.111111</td>\n",
       "    </tr>\n",
       "    <tr>\n",
       "      <th>4</th>\n",
       "      <td>MolPort-003-931-393</td>\n",
       "      <td>0.111111</td>\n",
       "    </tr>\n",
       "    <tr>\n",
       "      <th>5</th>\n",
       "      <td>MolPort-047-786-645</td>\n",
       "      <td>0.111111</td>\n",
       "    </tr>\n",
       "    <tr>\n",
       "      <th>6</th>\n",
       "      <td>MolPort-047-785-953</td>\n",
       "      <td>0.115385</td>\n",
       "    </tr>\n",
       "    <tr>\n",
       "      <th>7</th>\n",
       "      <td>MolPort-003-930-273</td>\n",
       "      <td>0.117647</td>\n",
       "    </tr>\n",
       "    <tr>\n",
       "      <th>8</th>\n",
       "      <td>MolPort-028-746-255</td>\n",
       "      <td>0.117647</td>\n",
       "    </tr>\n",
       "    <tr>\n",
       "      <th>9</th>\n",
       "      <td>MolPort-001-783-134</td>\n",
       "      <td>0.125000</td>\n",
       "    </tr>\n",
       "  </tbody>\n",
       "</table>\n",
       "</div>"
      ],
      "text/plain": [
       "               pick_id     score\n",
       "0  MolPort-035-944-309  0.066667\n",
       "1  MolPort-003-925-243  0.076923\n",
       "2  MolPort-046-418-717  0.096774\n",
       "3  MolPort-047-715-359  0.111111\n",
       "4  MolPort-003-931-393  0.111111\n",
       "5  MolPort-047-786-645  0.111111\n",
       "6  MolPort-047-785-953  0.115385\n",
       "7  MolPort-003-930-273  0.117647\n",
       "8  MolPort-028-746-255  0.117647\n",
       "9  MolPort-001-783-134  0.125000"
      ]
     },
     "execution_count": 18,
     "metadata": {},
     "output_type": "execute_result"
    }
   ],
   "source": [
    "info.result.to_pandas()"
   ]
  },
  {
   "cell_type": "markdown",
   "id": "2ac7f92e",
   "metadata": {},
   "source": [
    "## High-level access to fingerprint types\n",
    "\n",
    "There is a new way to get access to a fingerprint type for a given toolkit.\n",
    "\n",
    "Previously you needed to construct it manually, as with:"
   ]
  },
  {
   "cell_type": "code",
   "execution_count": 19,
   "id": "50b46c53",
   "metadata": {},
   "outputs": [
    {
     "data": {
      "text/plain": [
       "RDKitMorganFingerprintType_v1(<RDKit-Morgan/1 radius=2 fpSize=2048 useFeatures=0 useChirality=0 useBondTypes=1>)"
      ]
     },
     "execution_count": 19,
     "metadata": {},
     "output_type": "execute_result"
    }
   ],
   "source": [
    "chemfp.get_fingerprint_type(\"RDKit-Morgan\")"
   ]
  },
  {
   "cell_type": "markdown",
   "id": "a1a307f5",
   "metadata": {},
   "source": [
    "(See how the fingerprint type's `repr()` now includes the fingerprint type string instead of Python's default? This is part of the changes to make chemfp more useful in Jupyter or other interactive environment.)\n",
    "\n",
    "With chemfp 4 you can instead refer to it via `chemfp.rdkit.morgan`:"
   ]
  },
  {
   "cell_type": "code",
   "execution_count": 20,
   "id": "bd192cc7",
   "metadata": {},
   "outputs": [
    {
     "data": {
      "text/plain": [
       "RDKitMorganFingerprintType_v1(<RDKit-Morgan/1 radius=2 fpSize=2048 useFeatures=0 useChirality=0 useBondTypes=1>)"
      ]
     },
     "execution_count": 20,
     "metadata": {},
     "output_type": "execute_result"
    }
   ],
   "source": [
    "chemfp.rdkit.morgan"
   ]
  },
  {
   "cell_type": "markdown",
   "id": "3b3b1238",
   "metadata": {},
   "source": [
    "(Under the covers this creates a new fingerprint instance each time.)\n",
    "\n",
    "You can also use the type to make a new type with modified parameters, like:"
   ]
  },
  {
   "cell_type": "code",
   "execution_count": 21,
   "id": "2caec51e",
   "metadata": {},
   "outputs": [
    {
     "data": {
      "text/plain": [
       "RDKitMorganFingerprintType_v1(<RDKit-Morgan/1 radius=2 fpSize=1024 useFeatures=1 useChirality=0 useBondTypes=1>)"
      ]
     },
     "execution_count": 21,
     "metadata": {},
     "output_type": "execute_result"
    }
   ],
   "source": [
    "chemfp.rdkit.morgan(fpSize=1024, useFeatures=1)"
   ]
  },
  {
   "cell_type": "markdown",
   "id": "69f532e1",
   "metadata": {},
   "source": [
    "These values can be passed into the other high-level APIs:"
   ]
  },
  {
   "cell_type": "code",
   "execution_count": 22,
   "id": "af0aebeb",
   "metadata": {},
   "outputs": [
    {
     "data": {
      "application/vnd.jupyter.widget-view+json": {
       "model_id": "367a2e432cff494589e66fb7370a96b4",
       "version_major": 2,
       "version_minor": 0
      },
      "text/plain": [
       "chembl_drugs.smi:   0%|                                                                  | 0.00/84.8k [00:00<?…"
      ]
     },
     "metadata": {},
     "output_type": "display_data"
    },
    {
     "data": {
      "text/plain": [
       "ConversionInfo('processed structures from a file. #source_records=1203, #destination_records=1203 (total: 2.25 s)')"
      ]
     },
     "execution_count": 22,
     "metadata": {},
     "output_type": "execute_result"
    }
   ],
   "source": [
    "chemfp.rdkit2fps(\"chembl_drugs.smi\", \"fcfp.fps\", type=chemfp.rdkit.morgan(fpSize=1024, useFeatures=1))"
   ]
  },
  {
   "cell_type": "code",
   "execution_count": 23,
   "id": "d1f9a6e6",
   "metadata": {},
   "outputs": [
    {
     "name": "stdout",
     "output_type": "stream",
     "text": [
      "#FPS1\r\n",
      "#num_bits=1024\r\n",
      "#type=RDKit-Morgan/1 radius=2 fpSize=1024 useFeatures=1 useChirality=0 useBondTypes=1\r\n",
      "#software=RDKit/2021.03.1 chemfp/4.0b1\r\n",
      "#source=chembl_drugs.smi\r\n",
      "#date=2021-10-01T11:36:25\r\n",
      "5700080000000100000000000000000008000000000000000000000000002000000000000000000b00000000000000000000000000100000000000080000000000001000000000000140400000000080000000000040000000000010000000000000800000000001000000000000000000000000010000000000000002008201\tCHEMBL700\r\n",
      "0700000000000020000000000000008800000000000000000000200000000000000000000100000000000000000000000000000001000008000000000000080000000000000000000000000000000000100000000000080000020000800000000008000100000000000000000000000000000000000000000000004000000001\tCHEMBL1200982\r\n",
      "0d01020000000000000000000000000000000000000000000000000000000000000000000000000000000000000000000000000040000000000000000000000000000000000000000000000000000000000000000000000000000000000000000000000000000001000000000000000000000000000000000000000000000000\tCHEMBL1200728\r\n",
      "1500000000000020000000000000000000000000000000000000000000000000000000000000000000000000000000080000000000100000000000000000000000001000000000000000400000000000000000000000000008040000000000000000000000008000000000220000000000000000000000000000000802000101\tCHEMBL590\r\n"
     ]
    }
   ],
   "source": [
    "!head fcfp.fps"
   ]
  },
  {
   "cell_type": "markdown",
   "id": "1913becb",
   "metadata": {},
   "source": [
    "## Progress bars\n",
    "\n",
    "As you've likely noticed, chemfp supports progress bars in the Jupyter environment. In a text-based environment, like the standard Python shell, chemfp will use text-based progress bars. Both are thanks to [tqdm](https://tqdm.github.io/). Chemfp includes a limited copy of tqdm with its distribution, which it will use if tqdm is not installed in your Python environment.\n",
    "\n",
    "Most of the command-line tools have been updated to use the progress bar, as in this example:\n",
    "\n",
    "```\n",
    "% rdkit2fps --morgan chembl_drugs.smi -o test.fps\n",
    "chembl_drugs.smi: 100%|██████████████████████████████████████████████████████████| 84.8k/84.8k [00:00<00:00, 126kbytes/s]\n",
    "```\n",
    "\n",
    "<div class=\"alert alert-block alert-warning\">\n",
    "<b>NOTE:</b> I plan to change `rdkit2fps` so it defaults to `--morgan` fingerprints instead of RDKit's Daylight-like fingerprints.\n",
    "</div>\n"
   ]
  },
  {
   "cell_type": "code",
   "execution_count": null,
   "id": "fbc57409",
   "metadata": {},
   "outputs": [],
   "source": []
  }
 ],
 "metadata": {
  "kernelspec": {
   "display_name": "Python 3 (ipykernel)",
   "language": "python",
   "name": "python3"
  },
  "language_info": {
   "codemirror_mode": {
    "name": "ipython",
    "version": 3
   },
   "file_extension": ".py",
   "mimetype": "text/x-python",
   "name": "python",
   "nbconvert_exporter": "python",
   "pygments_lexer": "ipython3",
   "version": "3.9.1"
  }
 },
 "nbformat": 4,
 "nbformat_minor": 5
}
